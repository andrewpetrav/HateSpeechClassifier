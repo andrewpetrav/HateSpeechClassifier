{
 "cells": [
  {
   "cell_type": "code",
   "execution_count": 1,
   "id": "a85be70b-c0a2-4e35-a31f-19f2c8378f6d",
   "metadata": {},
   "outputs": [],
   "source": [
    "import pandas as pd\n",
    "import numpy as np\n",
    "import seaborn as sb\n",
    "import matplotlib.pyplot as plt\n",
    "import nltk\n",
    "\n",
    "import time\n",
    "import string\n",
    "\n",
    "from nltk.tokenize import word_tokenize\n",
    "from nltk.corpus import stopwords\n",
    "from nltk.stem.porter import *\n",
    "from sklearn.feature_extraction.text import CountVectorizer\n",
    "from sklearn.feature_extraction.text import TfidfVectorizer\n",
    "from sklearn.metrics import confusion_matrix\n",
    "from textstat.textstat import *\n",
    "from sklearn.linear_model import LogisticRegression\n",
    "from sklearn.model_selection import train_test_split\n",
    "from sklearn.metrics import f1_score\n",
    "from sklearn.feature_selection import SelectFromModel\n",
    "from sklearn.metrics import classification_report\n",
    "from sklearn.metrics import confusion_matrix\n",
    "from sklearn.metrics import accuracy_score\n",
    "from sklearn.svm import LinearSVC\n",
    "from sklearn.ensemble import RandomForestClassifier\n",
    "from sklearn.naive_bayes import GaussianNB\n",
    "from nltk.sentiment.vader import SentimentIntensityAnalyzer as SIA\n",
    "import warnings\n",
    "warnings.simplefilter(action='ignore', category=FutureWarning)\n",
    "%matplotlib inline"
   ]
  },
  {
   "cell_type": "code",
   "execution_count": 2,
   "id": "dfa9dd77-0aae-4e1b-92d3-a2d1ba57c853",
   "metadata": {},
   "outputs": [
    {
     "name": "stdout",
     "output_type": "stream",
     "text": [
      "Requirement already satisfied: gensim in /opt/anaconda3/lib/python3.8/site-packages (4.2.0)\n",
      "Requirement already satisfied: smart-open>=1.8.1 in /opt/anaconda3/lib/python3.8/site-packages (from gensim) (6.2.0)\n",
      "Requirement already satisfied: scipy>=0.18.1 in /opt/anaconda3/lib/python3.8/site-packages (from gensim) (1.6.2)\n",
      "Requirement already satisfied: numpy>=1.17.0 in /opt/anaconda3/lib/python3.8/site-packages (from gensim) (1.20.1)\n"
     ]
    },
    {
     "name": "stderr",
     "output_type": "stream",
     "text": [
      "[nltk_data] Downloading package vader_lexicon to\n",
      "[nltk_data]     /Users/andrewpetravicius/nltk_data...\n",
      "[nltk_data]   Package vader_lexicon is already up-to-date!\n",
      "[nltk_data] Downloading package stopwords to\n",
      "[nltk_data]     /Users/andrewpetravicius/nltk_data...\n",
      "[nltk_data]   Package stopwords is already up-to-date!\n"
     ]
    },
    {
     "data": {
      "text/plain": [
       "True"
      ]
     },
     "execution_count": 2,
     "metadata": {},
     "output_type": "execute_result"
    }
   ],
   "source": [
    "!pip install --upgrade gensim\n",
    "nltk.download('vader_lexicon')\n",
    "nltk.download('stopwords')"
   ]
  },
  {
   "cell_type": "code",
   "execution_count": 26,
   "id": "8cd5520e-c8d0-43d8-99d8-d3891e071503",
   "metadata": {},
   "outputs": [
    {
     "name": "stdout",
     "output_type": "stream",
     "text": [
      "       Unnamed: 0  count  hate_speech  offensive_language  neither  class  \\\n",
      "0               0      3            0                   0        3      2   \n",
      "1               1      3            0                   3        0      1   \n",
      "2               2      3            0                   3        0      1   \n",
      "3               3      3            0                   2        1      1   \n",
      "4               4      6            0                   6        0      1   \n",
      "...           ...    ...          ...                 ...      ...    ...   \n",
      "24778       25291      3            0                   2        1      1   \n",
      "24779       25292      3            0                   1        2      2   \n",
      "24780       25294      3            0                   3        0      1   \n",
      "24781       25295      6            0                   6        0      1   \n",
      "24782       25296      3            0                   0        3      2   \n",
      "\n",
      "                                                   tweet  \n",
      "0      !!! RT @mayasolovely: As a woman you shouldn't...  \n",
      "1      !!!!! RT @mleew17: boy dats cold...tyga dwn ba...  \n",
      "2      !!!!!!! RT @UrKindOfBrand Dawg!!!! RT @80sbaby...  \n",
      "3      !!!!!!!!! RT @C_G_Anderson: @viva_based she lo...  \n",
      "4      !!!!!!!!!!!!! RT @ShenikaRoberts: The shit you...  \n",
      "...                                                  ...  \n",
      "24778  you's a muthaf***in lie &#8220;@LifeAsKing: @2...  \n",
      "24779  you've gone and broke the wrong heart baby, an...  \n",
      "24780  young buck wanna eat!!.. dat nigguh like I ain...  \n",
      "24781              youu got wild bitches tellin you lies  \n",
      "24782  ~~Ruffled | Ntac Eileen Dahlia - Beautiful col...  \n",
      "\n",
      "[24783 rows x 7 columns]\n"
     ]
    }
   ],
   "source": [
    "#data preparation\n",
    "raw_data=pd.read_csv('data.csv')\n",
    "#data description:\n",
    "#count: number of CrowdFlower users who coded each tweet (min is 3, sometimes more users coded a tweet when \n",
    "#hate_speech: number of CF users who judged the tweet to be hate speech\n",
    "#offensive_language: number of CF users who judged the tweet to be offensive\n",
    "#neither: number of CF users who judged the tweet to be neither offensive nor non-offensive\n",
    "#class: class label for majority of CF users. 0 - hate speech 1 - offensive language 2 - neither\n",
    "#tweet: the actual tweet\n",
    "\n"
   ]
  },
  {
   "cell_type": "code",
   "execution_count": 4,
   "id": "9c946742-b607-4501-97d9-f7907fbce0d8",
   "metadata": {},
   "outputs": [],
   "source": [
    "#Since only dealing with english tweets, only care about the stopwords that are in English\n",
    "stopwords = nltk.corpus.stopwords.words('english')\n",
    "#rt/retweet are twitter-specific stopwords we dont want to consider  \n",
    "twitter_stopwords=('rt','retweet')\n",
    "stopwords.extend(twitter_stopwords)\n",
    "\n",
    "#create stemmer object (WHY STEMMER OVER LEMMINZATION?)\n",
    "stemmer = PorterStemmer()\n",
    "\n",
    "def preprocess(data):\n",
    "    processed_data=list()\n",
    "    for index, tweet in data.iterrows():\n",
    "        #go to lower case, as capitalization likely does not differentiate between hate speech and offensive\n",
    "        tweet = tweet.str.lower()\n",
    "        #get rid of: links, punctuation, large whitespace \n",
    "        tweet = tweet.apply(lambda f: re.sub(r'[.,\"\\'-?:!;]', '', f))\n",
    "        tweet = tweet.apply(lambda e: re.sub(r\"(@[A-Za-z0-9]+)|([^0-9A-Za-z \\t])|(\\w+:\\/\\/\\S+)|^rt|http.+?\", \"\", e))  \n",
    "        #tokenization\n",
    "        tweet= tweet.apply(lambda e: word_tokenize(e))\n",
    "        # removal of stopwords\n",
    "        tweet=tweet.apply(lambda x: [item for item in x if item not in stopwords])\n",
    "        # stemming of the tweets\n",
    "        tweet = tweet.apply(lambda x: [stemmer.stem(i) for i in x]) \n",
    "        #to sentence\n",
    "        tweet=tweet.values\n",
    "        tweet=tweet[0]\n",
    "        #join to one sentence\n",
    "        tweet=' '.join(tweet)\n",
    "        processed_data.append(tweet)\n",
    "    return processed_data\n",
    "\n",
    "#drop unneeded columns\n",
    "dropped_data=raw_data.drop(['Unnamed: 0','count','hate_speech','offensive_language','neither'],axis=1)\n"
   ]
  },
  {
   "cell_type": "code",
   "execution_count": 5,
   "id": "658e4846-58f8-4661-919b-fbf23e62a388",
   "metadata": {},
   "outputs": [],
   "source": [
    "#frequency finder\n",
    "def freq(lst):\n",
    "    d = {}\n",
    "    for i in lst:\n",
    "        if d.get(i):\n",
    "            d[i] += 1\n",
    "        else:\n",
    "            d[i] = 1\n",
    "    return d\n"
   ]
  },
  {
   "cell_type": "code",
   "execution_count": 6,
   "id": "0bb2de53-cf5c-4f16-97af-919b6f904dfa",
   "metadata": {},
   "outputs": [
    {
     "name": "stdout",
     "output_type": "stream",
     "text": [
      "{2: 4163, 1: 19190, 0: 1430}\n"
     ]
    }
   ],
   "source": [
    "print(freq(dropped_data['class']))\n",
    "#we see that tweets with hate speech are a lot less frequent than ones with hate speech. This is a sign of unbalanced data. \n",
    "#To solve this, we will upsample\n"
   ]
  },
  {
   "cell_type": "code",
   "execution_count": 45,
   "id": "19aad5fc-a5e2-409c-9f9f-c5e63c861089",
   "metadata": {},
   "outputs": [],
   "source": [
    "#Upsampling procedure\n",
    "from sklearn.utils import resample\n",
    "#upsampling\n",
    "dropped_data_maj=dropped_data[dropped_data['class']==1]\n",
    "dropped_data_min_hate=dropped_data[dropped_data['class']==0]\n",
    "dropped_data_min_neither=dropped_data[dropped_data['class']==2]\n",
    "\n",
    "\n",
    "dropped_data_min_hate_upsampled=resample(dropped_data_min_hate,replace=True,n_samples=len(dropped_data_maj),random_state=123)\n",
    "dropped_data_min_neither_upsampled=resample(dropped_data_min_neither,replace=True,n_samples=len(dropped_data_maj),random_state=123)\n",
    "\n",
    "\n",
    "#new upsampled dataset\n",
    "df_upsampled=dropped_data_maj.append(dropped_data_min_hate_upsampled)\n",
    "df_upsampled=df_upsampled.append(dropped_data_min_neither_upsampled)\n",
    "#separate into X and y\n",
    "X_upsampled=df_upsampled['tweet']\n",
    "y_upsampled=df_upsampled['class'].astype(int)\n",
    "X_not=dropped_data['tweet']\n",
    "y_not=dropped_data['class'].astype(int)\n",
    "#y=pd.get_dummies(df['class'])\n"
   ]
  },
  {
   "cell_type": "code",
   "execution_count": null,
   "id": "6996a53a-2c0a-43c0-bcdd-b9f181942e36",
   "metadata": {},
   "outputs": [],
   "source": []
  },
  {
   "cell_type": "code",
   "execution_count": 46,
   "id": "341e4822-eb28-4c7e-a60e-34890d861eac",
   "metadata": {},
   "outputs": [],
   "source": [
    "def preprocessTF(text_string):\n",
    "    whitespace = '\\s+'\n",
    "    regURL = ('http[s]?://(?:[a-zA-Z]|[0-9]|[$-_@.&+]|'\n",
    "        '[!*\\(\\),]|(?:%[0-9a-fA-F][0-9a-fA-F]))+')\n",
    "    regAt = '@[\\w\\-]+'\n",
    "    res = re.sub(whitespace, ' ', text_string)\n",
    "    res = re.sub(regURL, '', res)\n",
    "    return re.sub(regAt, '', res)\n",
    "\n",
    "def tokenize(tweet):\n",
    "    tweet = \" \".join(re.split(\"[^a-zA-Z]*\", tweet.lower())).strip()\n",
    "    tokens = [stemmer.stem(t) for t in tweet.split()]\n",
    "    return tokens\n",
    "\n",
    "tfidf_vectorizer = TfidfVectorizer(\n",
    "    ngram_range=(1, 3),\n",
    "    stop_words=stopwords,\n",
    "    use_idf=True,\n",
    "    smooth_idf=False,\n",
    "    norm=None,\n",
    "    decode_error='replace',\n",
    "    max_features=10000,\n",
    "    min_df=5,\n",
    "    max_df=0.75\n",
    ")"
   ]
  },
  {
   "cell_type": "code",
   "execution_count": null,
   "id": "a611567f-283b-4fd8-8c00-70f0f12171f0",
   "metadata": {},
   "outputs": [],
   "source": []
  },
  {
   "cell_type": "code",
   "execution_count": 47,
   "id": "5b6ab538-e8be-461d-8246-fbf2f6054b50",
   "metadata": {},
   "outputs": [],
   "source": [
    "#Feature Engineering\n",
    "#TF-IDF Features-F1\n",
    "# TF-IDF feature matrix\n",
    "tfidf_upsampled = tfidf_vectorizer.fit_transform(X_upsampled)\n",
    "tfidf_not = tfidf_vectorizer.fit_transform(X_not)\n",
    "\n",
    "#split data (tfidf based)\n",
    "tfidf_upsampled_train, tfidf_upsampled_test, y_upsampled_train, y_upsampled_test = train_test_split(tfidf_upsampled,y_upsampled,\n",
    "                                                                                                    test_size=0.3,\n",
    "                                                                                                    random_state=123)\n",
    "tfidf_not_train, tfidf_not_test, y_not_train, y_not_test = train_test_split(tfidf_not,y_not,test_size=0.3,random_state=123)"
   ]
  },
  {
   "cell_type": "code",
   "execution_count": null,
   "id": "3b937e04-2df3-4a8d-9e38-37e458b85e81",
   "metadata": {},
   "outputs": [],
   "source": []
  },
  {
   "cell_type": "code",
   "execution_count": 48,
   "id": "bca5f40f-d87a-4c07-842e-ca4a7ca06636",
   "metadata": {},
   "outputs": [
    {
     "name": "stdout",
     "output_type": "stream",
     "text": [
      "LOGISTIC REGRESSION\n"
     ]
    },
    {
     "name": "stderr",
     "output_type": "stream",
     "text": [
      "/opt/anaconda3/lib/python3.8/site-packages/sklearn/linear_model/_logistic.py:763: ConvergenceWarning: lbfgs failed to converge (status=1):\n",
      "STOP: TOTAL NO. of ITERATIONS REACHED LIMIT.\n",
      "\n",
      "Increase the number of iterations (max_iter) or scale the data as shown in:\n",
      "    https://scikit-learn.org/stable/modules/preprocessing.html\n",
      "Please also refer to the documentation for alternative solver options:\n",
      "    https://scikit-learn.org/stable/modules/linear_model.html#logistic-regression\n",
      "  n_iter_i = _check_optimize_result(\n"
     ]
    },
    {
     "name": "stdout",
     "output_type": "stream",
     "text": [
      "Not Upsampled\n",
      "------------\n",
      "              precision    recall  f1-score   support\n",
      "\n",
      "           0       0.35      0.34      0.35       445\n",
      "           1       0.92      0.92      0.92      5780\n",
      "           2       0.80      0.83      0.81      1210\n",
      "\n",
      "    accuracy                           0.87      7435\n",
      "   macro avg       0.69      0.70      0.69      7435\n",
      "weighted avg       0.87      0.87      0.87      7435\n",
      "\n",
      "Accuracy: 0.8699\n",
      "Runtime:  0.7636\n",
      "\n",
      "Upsampled\n",
      "------------\n",
      "              precision    recall  f1-score   support\n",
      "\n",
      "           0       1.00      0.95      0.97      6101\n",
      "           1       0.90      0.99      0.94      5143\n",
      "           2       0.99      0.96      0.97      6027\n",
      "\n",
      "    accuracy                           0.96     17271\n",
      "   macro avg       0.96      0.96      0.96     17271\n",
      "weighted avg       0.97      0.96      0.96     17271\n",
      "\n",
      "Accuracy: 0.9621\n",
      "Runtime:  1.5777\n"
     ]
    },
    {
     "name": "stderr",
     "output_type": "stream",
     "text": [
      "/opt/anaconda3/lib/python3.8/site-packages/sklearn/linear_model/_logistic.py:763: ConvergenceWarning: lbfgs failed to converge (status=1):\n",
      "STOP: TOTAL NO. of ITERATIONS REACHED LIMIT.\n",
      "\n",
      "Increase the number of iterations (max_iter) or scale the data as shown in:\n",
      "    https://scikit-learn.org/stable/modules/preprocessing.html\n",
      "Please also refer to the documentation for alternative solver options:\n",
      "    https://scikit-learn.org/stable/modules/linear_model.html#logistic-regression\n",
      "  n_iter_i = _check_optimize_result(\n"
     ]
    }
   ],
   "source": [
    "#Logistic Regression\n",
    "print(\"LOGISTIC REGRESSION\")\n",
    "start_not=time.time()\n",
    "model_not_LR = LogisticRegression().fit(tfidf_not_train,y_not_train)\n",
    "end_not=time.time()\n",
    "#get time\n",
    "runtime_not_LR=end_not-start_not\n",
    "#get predictions\n",
    "yhat_not = model_not_LR.predict(tfidf_not_test)\n",
    "#get accuracy\n",
    "accuracy_not_LR=accuracy_score(yhat_not,y_not_test)\n",
    "#get results\n",
    "results=classification_report(yhat_not,y_not_test)\n",
    "print(\"Not Upsampled\")\n",
    "print(\"------------\")\n",
    "print(results)\n",
    "print(\"Accuracy:\" , round(accuracy_not_LR,4))\n",
    "print(\"Runtime: \",round(runtime_not_LR,4))\n",
    "print()\n",
    "\n",
    "start_upsampled=time.time()\n",
    "model_upsampled_LR = LogisticRegression().fit(tfidf_upsampled_train,y_upsampled_train)\n",
    "end_upsampled=time.time()\n",
    "#get time\n",
    "runtime_upsampled_LR=end_upsampled-start_upsampled\n",
    "#get predictions\n",
    "yhat_upsampled = model_upsampled_LR.predict(tfidf_upsampled_test)\n",
    "#get accuracy\n",
    "accuracy_upsampled_LR=accuracy_score(yhat_upsampled,y_upsampled_test)\n",
    "#get results\n",
    "results=classification_report(yhat_upsampled,y_upsampled_test)\n",
    "print(\"Upsampled\")\n",
    "print(\"------------\")\n",
    "print(results)\n",
    "print(\"Accuracy:\" , round(accuracy_upsampled_LR,4))\n",
    "print(\"Runtime: \",round(runtime_upsampled_LR,4))"
   ]
  },
  {
   "cell_type": "code",
   "execution_count": 49,
   "id": "4198104b-1f41-46c0-ac11-11080210ac6f",
   "metadata": {},
   "outputs": [
    {
     "data": {
      "text/plain": [
       "Text(0.5, 1.0, 'Upsampled')"
      ]
     },
     "execution_count": 49,
     "metadata": {},
     "output_type": "execute_result"
    },
    {
     "data": {
      "image/png": "[encoded data removed]",
      "text/plain": [
       "<Figure size 360x360 with 1 Axes>"
      ]
     },
     "metadata": {
      "needs_background": "light"
     },
     "output_type": "display_data"
    },
    {
     "data": {
      "image/png": "[encoded data removed]",
      "text/plain": [
       "<Figure size 360x360 with 1 Axes>"
      ]
     },
     "metadata": {
      "needs_background": "light"
     },
     "output_type": "display_data"
    }
   ],
   "source": [
    "confMat_not = confusion_matrix(yhat_not,y_not_test)\n",
    "confMat_upsampled = confusion_matrix(yhat_upsampled,y_upsampled_test)\n",
    "\n",
    "#Since there are 3 classes, want a 3x3 confusion matrix\n",
    "dims_not = np.zeros((3,3))\n",
    "dims_upsampled=np.zeros((3,3))\n",
    "for i in range(0,3):\n",
    "    dims_not[i,:] = confMat_not[i,:]/confMat_not[i,:].sum()\n",
    "    dims_upsampled[i,:] = confMat_upsampled[i,:]/confMat_upsampled[i,:].sum()\n",
    "map_not = pd.DataFrame(dims_not, index=['Hate Speech', 'Offensive Language', 'Neither'],\n",
    "                            columns=['Hate Speech', 'Offensive Language', 'Neither'])\n",
    "map_upsampled = pd.DataFrame(dims_upsampled, index=['Hate Speech', 'Offensive Language', 'Neither'],\n",
    "                            columns=['Hate Speech', 'Offensive Language', 'Neither'])\n",
    "plt.figure(figsize=(5,5))\n",
    "sb.heatmap(map_not,annot=True,cmap='YlGnBu', cbar=False)\n",
    "plt.ylabel('True')\n",
    "plt.xlabel('Predicted')\n",
    "plt.title(\"Not Upsampled\")\n",
    "\n",
    "plt.figure(figsize=(5,5))\n",
    "sb.heatmap(map_upsampled,annot=True,cmap='YlGnBu', cbar=False)\n",
    "plt.ylabel('True')\n",
    "plt.xlabel('Predicted')\n",
    "plt.title(\"Upsampled\")\n"
   ]
  },
  {
   "cell_type": "code",
   "execution_count": 50,
   "id": "f346fcb3-c7f5-4a5d-b59b-f3113e38df84",
   "metadata": {},
   "outputs": [
    {
     "name": "stdout",
     "output_type": "stream",
     "text": [
      "Random Forest\n",
      "Not Upsampled\n",
      "------------\n",
      "              precision    recall  f1-score   support\n",
      "\n",
      "           0       0.22      0.48      0.30       198\n",
      "           1       0.95      0.93      0.94      5882\n",
      "           2       0.89      0.82      0.85      1355\n",
      "\n",
      "    accuracy                           0.90      7435\n",
      "   macro avg       0.69      0.75      0.70      7435\n",
      "weighted avg       0.92      0.90      0.91      7435\n",
      "\n",
      "Accuracy: 0.8989\n",
      "Runtime:  10.5743\n",
      "\n",
      "Upsampled\n",
      "------------\n",
      "              precision    recall  f1-score   support\n",
      "\n",
      "           0       1.00      0.96      0.98      6005\n",
      "           1       0.92      1.00      0.96      5247\n",
      "           2       0.99      0.96      0.98      6019\n",
      "\n",
      "    accuracy                           0.97     17271\n",
      "   macro avg       0.97      0.97      0.97     17271\n",
      "weighted avg       0.97      0.97      0.97     17271\n",
      "\n",
      "Accuracy: 0.9727\n",
      "Runtime:  28.7249\n"
     ]
    }
   ],
   "source": [
    "#Random Forest\n",
    "print(\"Random Forest\")\n",
    "start_not=time.time()\n",
    "model_not_RF = RandomForestClassifier().fit(tfidf_not_train,y_not_train)\n",
    "end_not=time.time()\n",
    "#get time\n",
    "runtime_not_RF=end_not-start_not\n",
    "#get predictions\n",
    "yhat_not = model_not_RF.predict(tfidf_not_test)\n",
    "#get accuracy\n",
    "accuracy_not_RF=accuracy_score(yhat_not,y_not_test)\n",
    "#get results\n",
    "results=classification_report(yhat_not,y_not_test)\n",
    "print(\"Not Upsampled\")\n",
    "print(\"------------\")\n",
    "print(results)\n",
    "print(\"Accuracy:\" , round(accuracy_not_RF,4))\n",
    "print(\"Runtime: \",round(runtime_not_RF,4))\n",
    "print()\n",
    "\n",
    "start_upsampled=time.time()\n",
    "model_upsampled_RF = RandomForestClassifier().fit(tfidf_upsampled_train,y_upsampled_train)\n",
    "end_upsampled=time.time()\n",
    "#get time\n",
    "runtime_upsampled_RF=end_upsampled-start_upsampled\n",
    "#get predictions\n",
    "yhat_upsampled = model_upsampled_RF.predict(tfidf_upsampled_test)\n",
    "#get accuracy\n",
    "accuracy_upsampled_RF=accuracy_score(yhat_upsampled,y_upsampled_test)\n",
    "#get results\n",
    "results=classification_report(yhat_upsampled,y_upsampled_test)\n",
    "print(\"Upsampled\")\n",
    "print(\"------------\")\n",
    "print(results)\n",
    "print(\"Accuracy:\" , round(accuracy_upsampled_RF,4))\n",
    "print(\"Runtime: \",round(runtime_upsampled_RF,4))"
   ]
  },
  {
   "cell_type": "code",
   "execution_count": 51,
   "id": "5c3c123e-9438-4062-9ed7-98f8775e643c",
   "metadata": {},
   "outputs": [
    {
     "data": {
      "text/plain": [
       "Text(0.5, 1.0, 'Upsampled')"
      ]
     },
     "execution_count": 51,
     "metadata": {},
     "output_type": "execute_result"
    },
    {
     "data": {
      "image/png": "[encoded data removed]",
      "text/plain": [
       "<Figure size 360x360 with 1 Axes>"
      ]
     },
     "metadata": {
      "needs_background": "light"
     },
     "output_type": "display_data"
    },
    {
     "data": {
      "image/png": "[encoded data removed]",
      "text/plain": [
       "<Figure size 360x360 with 1 Axes>"
      ]
     },
     "metadata": {
      "needs_background": "light"
     },
     "output_type": "display_data"
    }
   ],
   "source": [
    "confMat_not = confusion_matrix(yhat_not,y_not_test)\n",
    "confMat_upsampled = confusion_matrix(yhat_upsampled,y_upsampled_test)\n",
    "\n",
    "#Since there are 3 classes, want a 3x3 confusion matrix\n",
    "dims_not = np.zeros((3,3))\n",
    "dims_upsampled=np.zeros((3,3))\n",
    "for i in range(0,3):\n",
    "    dims_not[i,:] = confMat_not[i,:]/confMat_not[i,:].sum()\n",
    "    dims_upsampled[i,:] = confMat_upsampled[i,:]/confMat_upsampled[i,:].sum()\n",
    "map_not = pd.DataFrame(dims_not, index=['Hate Speech', 'Offensive Language', 'Neither'],\n",
    "                            columns=['Hate Speech', 'Offensive Language', 'Neither'])\n",
    "map_upsampled = pd.DataFrame(dims_upsampled, index=['Hate Speech', 'Offensive Language', 'Neither'],\n",
    "                            columns=['Hate Speech', 'Offensive Language', 'Neither'])\n",
    "plt.figure(figsize=(5,5))\n",
    "sb.heatmap(map_not,annot=True,cmap='YlGnBu', cbar=False)\n",
    "plt.ylabel('True')\n",
    "plt.xlabel('Predicted')\n",
    "plt.title(\"Not Upsampled\")\n",
    "\n",
    "plt.figure(figsize=(5,5))\n",
    "sb.heatmap(map_upsampled,annot=True,cmap='YlGnBu', cbar=False)\n",
    "plt.ylabel('True')\n",
    "plt.xlabel('Predicted')\n",
    "plt.title(\"Upsampled\")\n"
   ]
  },
  {
   "cell_type": "code",
   "execution_count": 52,
   "id": "7c9040f9-eb41-4a8d-a77e-14a917b44ba2",
   "metadata": {},
   "outputs": [
    {
     "name": "stdout",
     "output_type": "stream",
     "text": [
      "SUPPORT VECTOR MACHINE\n"
     ]
    },
    {
     "name": "stderr",
     "output_type": "stream",
     "text": [
      "/opt/anaconda3/lib/python3.8/site-packages/sklearn/svm/_base.py:985: ConvergenceWarning: Liblinear failed to converge, increase the number of iterations.\n",
      "  warnings.warn(\"Liblinear failed to converge, increase \"\n"
     ]
    },
    {
     "name": "stdout",
     "output_type": "stream",
     "text": [
      "Not Upsampled\n",
      "------------\n",
      "              precision    recall  f1-score   support\n",
      "\n",
      "           0       0.36      0.26      0.30       589\n",
      "           1       0.89      0.91      0.90      5649\n",
      "           2       0.72      0.76      0.74      1197\n",
      "\n",
      "    accuracy                           0.83      7435\n",
      "   macro avg       0.66      0.64      0.65      7435\n",
      "weighted avg       0.82      0.83      0.82      7435\n",
      "\n",
      "Accuracy: 0.8301\n",
      "Runtime:  1.0566\n",
      "\n",
      "Upsampled\n",
      "------------\n",
      "              precision    recall  f1-score   support\n",
      "\n",
      "           0       1.00      0.94      0.97      6104\n",
      "           1       0.89      0.99      0.94      5120\n",
      "           2       0.99      0.95      0.97      6047\n",
      "\n",
      "    accuracy                           0.96     17271\n",
      "   macro avg       0.96      0.96      0.96     17271\n",
      "weighted avg       0.96      0.96      0.96     17271\n",
      "\n",
      "Accuracy: 0.9585\n",
      "Runtime:  5.4036\n"
     ]
    },
    {
     "name": "stderr",
     "output_type": "stream",
     "text": [
      "/opt/anaconda3/lib/python3.8/site-packages/sklearn/svm/_base.py:985: ConvergenceWarning: Liblinear failed to converge, increase the number of iterations.\n",
      "  warnings.warn(\"Liblinear failed to converge, increase \"\n"
     ]
    }
   ],
   "source": [
    "#Support Vector Machine\n",
    "#Support Vector Machine\n",
    "print(\"SUPPORT VECTOR MACHINE\")\n",
    "start_not=time.time()\n",
    "model_not_SVM = LinearSVC().fit(tfidf_not_train,y_not_train)\n",
    "end_not=time.time()\n",
    "#get time\n",
    "runtime_not_SVM=end_not-start_not\n",
    "#get predictions\n",
    "yhat_not = model_not_SVM.predict(tfidf_not_test)\n",
    "#get accuracy\n",
    "accuracy_not_SVM=accuracy_score(yhat_not,y_not_test)\n",
    "#get results\n",
    "results=classification_report(yhat_not,y_not_test)\n",
    "print(\"Not Upsampled\")\n",
    "print(\"------------\")\n",
    "print(results)\n",
    "print(\"Accuracy:\" , round(accuracy_not_SVM,4))\n",
    "print(\"Runtime: \",round(runtime_not_SVM,4))\n",
    "print()\n",
    "\n",
    "start_upsampled=time.time()\n",
    "model_upsampled_SVM = LinearSVC().fit(tfidf_upsampled_train,y_upsampled_train)\n",
    "end_upsampled=time.time()\n",
    "#get time\n",
    "runtime_upsampled_SVM=end_upsampled-start_upsampled\n",
    "#get predictions\n",
    "yhat_upsampled = model_upsampled_SVM.predict(tfidf_upsampled_test)\n",
    "#get accuracy\n",
    "accuracy_upsampled_SVM=accuracy_score(yhat_upsampled,y_upsampled_test)\n",
    "#get results\n",
    "results=classification_report(yhat_upsampled,y_upsampled_test)\n",
    "print(\"Upsampled\")\n",
    "print(\"------------\")\n",
    "print(results)\n",
    "print(\"Accuracy:\" , round(accuracy_upsampled_SVM,4))\n",
    "print(\"Runtime: \",round(runtime_upsampled_SVM,4))"
   ]
  },
  {
   "cell_type": "code",
   "execution_count": 53,
   "id": "0da8d02e-9e50-4847-acd6-4bda238e1c0d",
   "metadata": {},
   "outputs": [
    {
     "data": {
      "text/plain": [
       "Text(0.5, 1.0, 'Upsampled')"
      ]
     },
     "execution_count": 53,
     "metadata": {},
     "output_type": "execute_result"
    },
    {
     "data": {
      "image/png": "[encoded data removed]",
      "text/plain": [
       "<Figure size 360x360 with 1 Axes>"
      ]
     },
     "metadata": {
      "needs_background": "light"
     },
     "output_type": "display_data"
    },
    {
     "data": {
      "image/png": "[encoded data removed]",
      "text/plain": [
       "<Figure size 360x360 with 1 Axes>"
      ]
     },
     "metadata": {
      "needs_background": "light"
     },
     "output_type": "display_data"
    }
   ],
   "source": [
    "confMat_not = confusion_matrix(yhat_not,y_not_test)\n",
    "confMat_upsampled = confusion_matrix(yhat_upsampled,y_upsampled_test)\n",
    "\n",
    "#Since there are 3 classes, want a 3x3 confusion matrix\n",
    "dims_not = np.zeros((3,3))\n",
    "dims_upsampled=np.zeros((3,3))\n",
    "for i in range(0,3):\n",
    "    dims_not[i,:] = confMat_not[i,:]/confMat_not[i,:].sum()\n",
    "    dims_upsampled[i,:] = confMat_upsampled[i,:]/confMat_upsampled[i,:].sum()\n",
    "map_not = pd.DataFrame(dims_not, index=['Hate Speech', 'Offensive Language', 'Neither'],\n",
    "                            columns=['Hate Speech', 'Offensive Language', 'Neither'])\n",
    "map_upsampled = pd.DataFrame(dims_upsampled, index=['Hate Speech', 'Offensive Language', 'Neither'],\n",
    "                            columns=['Hate Speech', 'Offensive Language', 'Neither'])\n",
    "plt.figure(figsize=(5,5))\n",
    "sb.heatmap(map_not,annot=True,cmap='YlGnBu', cbar=False)\n",
    "plt.ylabel('True')\n",
    "plt.xlabel('Predicted')\n",
    "plt.title(\"Not Upsampled\")\n",
    "\n",
    "plt.figure(figsize=(5,5))\n",
    "sb.heatmap(map_upsampled,annot=True,cmap='YlGnBu', cbar=False)\n",
    "plt.ylabel('True')\n",
    "plt.xlabel('Predicted')\n",
    "plt.title(\"Upsampled\")\n"
   ]
  },
  {
   "cell_type": "code",
   "execution_count": 54,
   "id": "9e9447e7-7967-4225-862a-18a4f4c1bd97",
   "metadata": {},
   "outputs": [
    {
     "name": "stdout",
     "output_type": "stream",
     "text": [
      "NAIVE BAYES\n",
      "Not Upsampled\n",
      "------------\n",
      "              precision    recall  f1-score   support\n",
      "\n",
      "           0       0.36      0.13      0.19      1187\n",
      "           1       0.76      0.88      0.82      4972\n",
      "           2       0.58      0.57      0.58      1276\n",
      "\n",
      "    accuracy                           0.71      7435\n",
      "   macro avg       0.57      0.53      0.53      7435\n",
      "weighted avg       0.67      0.71      0.68      7435\n",
      "\n",
      "Accuracy: 0.8699\n",
      "Runtime:  0.7636\n",
      "\n",
      "Upsampled\n",
      "------------\n",
      "              precision    recall  f1-score   support\n",
      "\n",
      "           0       0.53      0.96      0.69      3229\n",
      "           1       0.67      0.66      0.67      5807\n",
      "           2       0.99      0.70      0.82      8235\n",
      "\n",
      "    accuracy                           0.73     17271\n",
      "   macro avg       0.73      0.77      0.72     17271\n",
      "weighted avg       0.80      0.73      0.74     17271\n",
      "\n",
      "Accuracy: 0.7338\n",
      "Runtime:  24.8651\n"
     ]
    }
   ],
   "source": [
    "#Naive Bayes (independence of features? maybe...check on it; multi-class? yes)\n",
    "print(\"NAIVE BAYES\")\n",
    "start_not=time.time()\n",
    "model_not_NB = GaussianNB().fit(tfidf_not_train.toarray(),y_not_train)\n",
    "end_not=time.time()\n",
    "#get time\n",
    "runtime_not_NB=end_not-start_not\n",
    "#get predictions\n",
    "yhat_not = model_not_NB.predict(tfidf_not_test.toarray())\n",
    "#get accuracy\n",
    "accuracy_not_NB=accuracy_score(yhat_not,y_not_test)\n",
    "#get results\n",
    "results=classification_report(yhat_not,y_not_test)\n",
    "print(\"Not Upsampled\")\n",
    "print(\"------------\")\n",
    "print(results)\n",
    "print(\"Accuracy:\" , round(accuracy_not_LR,4))\n",
    "print(\"Runtime: \",round(runtime_not_LR,4))\n",
    "print()\n",
    "\n",
    "start_upsampled=time.time()\n",
    "model_upsampled_NB = GaussianNB().fit(tfidf_upsampled_train.toarray(),y_upsampled_train)\n",
    "end_upsampled=time.time()\n",
    "#get time\n",
    "runtime_upsampled_NB=end_upsampled-start_upsampled\n",
    "#get predictions\n",
    "yhat_upsampled = model_upsampled_NB.predict(tfidf_upsampled_test.toarray())\n",
    "#get accuracy\n",
    "accuracy_upsampled_NB=accuracy_score(yhat_upsampled,y_upsampled_test)\n",
    "#get results\n",
    "results=classification_report(yhat_upsampled,y_upsampled_test)\n",
    "print(\"Upsampled\")\n",
    "print(\"------------\")\n",
    "print(results)\n",
    "print(\"Accuracy:\" , round(accuracy_upsampled_NB,4))\n",
    "print(\"Runtime: \",round(runtime_upsampled_NB,4))"
   ]
  },
  {
   "cell_type": "code",
   "execution_count": 55,
   "id": "6c3d3a44-24b0-4cf3-aabb-3bae85084306",
   "metadata": {},
   "outputs": [
    {
     "data": {
      "text/plain": [
       "Text(0.5, 1.0, 'Upsampled')"
      ]
     },
     "execution_count": 55,
     "metadata": {},
     "output_type": "execute_result"
    },
    {
     "data": {
      "image/png": "[encoded data removed]",
      "text/plain": [
       "<Figure size 360x360 with 1 Axes>"
      ]
     },
     "metadata": {
      "needs_background": "light"
     },
     "output_type": "display_data"
    },
    {
     "data": {
      "image/png": "[encoded data removed]",
      "text/plain": [
       "<Figure size 360x360 with 1 Axes>"
      ]
     },
     "metadata": {
      "needs_background": "light"
     },
     "output_type": "display_data"
    }
   ],
   "source": [
    "confMat_not = confusion_matrix(yhat_not,y_not_test)\n",
    "confMat_upsampled = confusion_matrix(yhat_upsampled,y_upsampled_test)\n",
    "\n",
    "#Since there are 3 classes, want a 3x3 confusion matrix\n",
    "dims_not = np.zeros((3,3))\n",
    "dims_upsampled=np.zeros((3,3))\n",
    "for i in range(0,3):\n",
    "    dims_not[i,:] = confMat_not[i,:]/confMat_not[i,:].sum()\n",
    "    dims_upsampled[i,:] = confMat_upsampled[i,:]/confMat_upsampled[i,:].sum()\n",
    "map_not = pd.DataFrame(dims_not, index=['Hate Speech', 'Offensive Language', 'Neither'],\n",
    "                            columns=['Hate Speech', 'Offensive Language', 'Neither'])\n",
    "map_upsampled = pd.DataFrame(dims_upsampled, index=['Hate Speech', 'Offensive Language', 'Neither'],\n",
    "                            columns=['Hate Speech', 'Offensive Language', 'Neither'])\n",
    "plt.figure(figsize=(5,5))\n",
    "sb.heatmap(map_not,annot=True,cmap='YlGnBu', cbar=False)\n",
    "plt.ylabel('True')\n",
    "plt.xlabel('Predicted')\n",
    "plt.title(\"Not Upsampled\")\n",
    "\n",
    "plt.figure(figsize=(5,5))\n",
    "sb.heatmap(map_upsampled,annot=True,cmap='YlGnBu', cbar=False)\n",
    "plt.ylabel('True')\n",
    "plt.xlabel('Predicted')\n",
    "plt.title(\"Upsampled\")\n"
   ]
  },
  {
   "cell_type": "code",
   "execution_count": 56,
   "id": "005fbba3-2174-4d2d-978f-0622f3af30dd",
   "metadata": {},
   "outputs": [
    {
     "data": {
      "image/png": "[encoded data removed]",
      "text/plain": [
       "<Figure size 432x288 with 1 Axes>"
      ]
     },
     "metadata": {
      "needs_background": "light"
     },
     "output_type": "display_data"
    }
   ],
   "source": [
    "#Plot results (error rate/runtime)\n",
    "error_rates_not=[1-accuracy_not_LR,1-accuracy_not_RF,1-accuracy_not_SVM,1-accuracy_not_NB]\n",
    "runtimes_not=[runtime_not_LR,runtime_not_RF,runtime_not_SVM,runtime_not_NB]\n",
    "error_rates_upsampled=[1-accuracy_upsampled_LR,1-accuracy_upsampled_RF,1-accuracy_upsampled_SVM,1-accuracy_upsampled_NB]\n",
    "runtimes_upsampled=[runtime_upsampled_LR,runtime_upsampled_RF,runtime_upsampled_SVM,runtime_upsampled_NB]\n",
    "\n",
    "\n",
    "names=['LR','RF', 'SVM', 'NB']\n",
    "plt.scatter(runtimes_not,error_rates_not,c='r')\n",
    "plt.scatter(runtimes_upsampled,error_rates_upsampled,c='b')\n",
    "plt.xlabel('Runtimes')\n",
    "plt.ylabel('Error Rates')\n",
    "plt.title('Model Performance')\n",
    "\n",
    "for i,model in enumerate(names):\n",
    "    plt.annotate(model, (runtimes_not[i],error_rates_not[i]))\n",
    "    plt.annotate(model, (runtimes_upsampled[i],error_rates_upsampled[i]))\n",
    "\n"
   ]
  },
  {
   "cell_type": "code",
   "execution_count": null,
   "id": "51a7fe3a-f975-4bd1-aac7-f41b0e593182",
   "metadata": {},
   "outputs": [],
   "source": []
  },
  {
   "cell_type": "code",
   "execution_count": 57,
   "id": "834ae96e-2f9c-4f66-9f8a-94dc55c14d0d",
   "metadata": {},
   "outputs": [
    {
     "data": {
      "text/html": [
       "<div>\n",
       "<style scoped>\n",
       "    .dataframe tbody tr th:only-of-type {\n",
       "        vertical-align: middle;\n",
       "    }\n",
       "\n",
       "    .dataframe tbody tr th {\n",
       "        vertical-align: top;\n",
       "    }\n",
       "\n",
       "    .dataframe thead th {\n",
       "        text-align: right;\n",
       "    }\n",
       "</style>\n",
       "<table border=\"1\" class=\"dataframe\">\n",
       "  <thead>\n",
       "    <tr style=\"text-align: right;\">\n",
       "      <th></th>\n",
       "      <th>Neg</th>\n",
       "      <th>Pos</th>\n",
       "      <th>Neu</th>\n",
       "      <th>Compound</th>\n",
       "    </tr>\n",
       "  </thead>\n",
       "  <tbody>\n",
       "    <tr>\n",
       "      <th>0</th>\n",
       "      <td>0.237</td>\n",
       "      <td>0.000</td>\n",
       "      <td>0.763</td>\n",
       "      <td>-0.6876</td>\n",
       "    </tr>\n",
       "    <tr>\n",
       "      <th>1</th>\n",
       "      <td>0.538</td>\n",
       "      <td>0.000</td>\n",
       "      <td>0.462</td>\n",
       "      <td>-0.9550</td>\n",
       "    </tr>\n",
       "    <tr>\n",
       "      <th>2</th>\n",
       "      <td>0.000</td>\n",
       "      <td>0.344</td>\n",
       "      <td>0.656</td>\n",
       "      <td>0.5673</td>\n",
       "    </tr>\n",
       "    <tr>\n",
       "      <th>3</th>\n",
       "      <td>0.249</td>\n",
       "      <td>0.081</td>\n",
       "      <td>0.669</td>\n",
       "      <td>-0.7762</td>\n",
       "    </tr>\n",
       "    <tr>\n",
       "      <th>4</th>\n",
       "      <td>0.101</td>\n",
       "      <td>0.155</td>\n",
       "      <td>0.744</td>\n",
       "      <td>0.3046</td>\n",
       "    </tr>\n",
       "    <tr>\n",
       "      <th>...</th>\n",
       "      <td>...</td>\n",
       "      <td>...</td>\n",
       "      <td>...</td>\n",
       "      <td>...</td>\n",
       "    </tr>\n",
       "    <tr>\n",
       "      <th>57565</th>\n",
       "      <td>0.067</td>\n",
       "      <td>0.244</td>\n",
       "      <td>0.688</td>\n",
       "      <td>0.6568</td>\n",
       "    </tr>\n",
       "    <tr>\n",
       "      <th>57566</th>\n",
       "      <td>0.000</td>\n",
       "      <td>0.000</td>\n",
       "      <td>1.000</td>\n",
       "      <td>0.0000</td>\n",
       "    </tr>\n",
       "    <tr>\n",
       "      <th>57567</th>\n",
       "      <td>0.162</td>\n",
       "      <td>0.000</td>\n",
       "      <td>0.838</td>\n",
       "      <td>-0.4019</td>\n",
       "    </tr>\n",
       "    <tr>\n",
       "      <th>57568</th>\n",
       "      <td>0.000</td>\n",
       "      <td>0.451</td>\n",
       "      <td>0.549</td>\n",
       "      <td>0.6249</td>\n",
       "    </tr>\n",
       "    <tr>\n",
       "      <th>57569</th>\n",
       "      <td>0.109</td>\n",
       "      <td>0.000</td>\n",
       "      <td>0.891</td>\n",
       "      <td>-0.2960</td>\n",
       "    </tr>\n",
       "  </tbody>\n",
       "</table>\n",
       "<p>57570 rows × 4 columns</p>\n",
       "</div>"
      ],
      "text/plain": [
       "         Neg    Pos    Neu  Compound\n",
       "0      0.237  0.000  0.763   -0.6876\n",
       "1      0.538  0.000  0.462   -0.9550\n",
       "2      0.000  0.344  0.656    0.5673\n",
       "3      0.249  0.081  0.669   -0.7762\n",
       "4      0.101  0.155  0.744    0.3046\n",
       "...      ...    ...    ...       ...\n",
       "57565  0.067  0.244  0.688    0.6568\n",
       "57566  0.000  0.000  1.000    0.0000\n",
       "57567  0.162  0.000  0.838   -0.4019\n",
       "57568  0.000  0.451  0.549    0.6249\n",
       "57569  0.109  0.000  0.891   -0.2960\n",
       "\n",
       "[57570 rows x 4 columns]"
      ]
     },
     "execution_count": 57,
     "metadata": {},
     "output_type": "execute_result"
    }
   ],
   "source": [
    "#Sentiment Analysis w Polarity Scores as Features\n",
    "sentimentAnalyzer=SIA()\n",
    "    \n",
    "def getSentiment(tweet):\n",
    "    #get the sentiment through library's polarity score feature\n",
    "    sentiment=sentimentAnalyzer.polarity_scores(tweet)\n",
    "    features = [sentiment['neg'], sentiment['pos'], sentiment['neu'], sentiment['compound']]#,tags[0], tags[1],tags[2]]\n",
    "    return features\n",
    "\n",
    "def sentiment_analysis_array(df):\n",
    "    features=[]\n",
    "    i=0\n",
    "    for tweet in df:\n",
    "        i+=1\n",
    "        features.append(getSentiment(tweet))\n",
    "    return np.array(features)\n",
    "\n",
    "dataFeatures = sentiment_analysis_array(X_upsampled)\n",
    "#final_features\n",
    "\n",
    "dataFeats = pd.DataFrame({'Neg':dataFeatures[:,0],'Pos':dataFeatures[:,1],'Neu':dataFeatures[:,2],'Compound':dataFeatures[:,3]})\n",
    "dataFeats"
   ]
  },
  {
   "cell_type": "code",
   "execution_count": 58,
   "id": "076b58fe-86e8-4f4b-a076-c60147512576",
   "metadata": {},
   "outputs": [],
   "source": [
    "# F2-Conctaenation of tf-idf scores and sentiment scores\n",
    "#Create new data\n",
    "tfidf2 = tfidf_upsampled.toarray()\n",
    "\n",
    "X2 = np.concatenate([dataFeats,tfidf2],axis=1)\n",
    "X2 = pd.DataFrame(X2)\n",
    "\n",
    "  \n",
    "X2_train, X2_test, y_train, y_test = train_test_split(X2, y_upsampled, random_state=123, test_size=0.3)\n",
    "]"
   ]
  },
  {
   "cell_type": "code",
   "execution_count": 59,
   "id": "fe844dca-fc4f-4965-8f1a-cc43efa18b60",
   "metadata": {},
   "outputs": [
    {
     "name": "stderr",
     "output_type": "stream",
     "text": [
      "/opt/anaconda3/lib/python3.8/site-packages/sklearn/linear_model/_logistic.py:763: ConvergenceWarning: lbfgs failed to converge (status=1):\n",
      "STOP: TOTAL NO. of ITERATIONS REACHED LIMIT.\n",
      "\n",
      "Increase the number of iterations (max_iter) or scale the data as shown in:\n",
      "    https://scikit-learn.org/stable/modules/preprocessing.html\n",
      "Please also refer to the documentation for alternative solver options:\n",
      "    https://scikit-learn.org/stable/modules/linear_model.html#logistic-regression\n",
      "  n_iter_i = _check_optimize_result(\n"
     ]
    },
    {
     "name": "stdout",
     "output_type": "stream",
     "text": [
      "LOGISTIC REGRESSION\n",
      "              precision    recall  f1-score   support\n",
      "\n",
      "           0       1.00      0.95      0.97      6098\n",
      "           1       0.90      0.99      0.94      5144\n",
      "           2       0.99      0.96      0.97      6029\n",
      "\n",
      "    accuracy                           0.96     17271\n",
      "   macro avg       0.96      0.96      0.96     17271\n",
      "weighted avg       0.97      0.96      0.96     17271\n",
      "\n",
      "Accuracy: 0.9621\n",
      "Runtime:  49.5614\n"
     ]
    }
   ],
   "source": [
    "#Logistic Regression]\n",
    "start=time.time()\n",
    "modelLR = LogisticRegression().fit(X2_train,y_train)\n",
    "end=time.time()\n",
    "#get time\n",
    "runtimeLR=end-start\n",
    "#get predictions\n",
    "yhat = modelLR.predict(X2_test)\n",
    "#get accuracy\n",
    "accuracyLR=accuracy_score(yhat,y_test)\n",
    "#get results\n",
    "results=classification_report(yhat,y_test)\n",
    "print(\"LOGISTIC REGRESSION\")\n",
    "print(results)\n",
    "print(\"Accuracy:\" , round(accuracyLR,4))\n",
    "print(\"Runtime: \",round(runtimeLR,4))"
   ]
  },
  {
   "cell_type": "code",
   "execution_count": 60,
   "id": "1cf387e5-4b03-4d5e-987f-9dd2410d8431",
   "metadata": {},
   "outputs": [
    {
     "data": {
      "text/plain": [
       "Text(0.5, 1.0, 'Logistic Regression')"
      ]
     },
     "execution_count": 60,
     "metadata": {},
     "output_type": "execute_result"
    },
    {
     "data": {
      "image/png": "[encoded data removed]",
      "text/plain": [
       "<Figure size 360x360 with 1 Axes>"
      ]
     },
     "metadata": {
      "needs_background": "light"
     },
     "output_type": "display_data"
    }
   ],
   "source": [
    "confMat = confusion_matrix(yhat,y_test)\n",
    "#Since there are 3 classes, want a 3x3 confusion matrix\n",
    "dims=np.zeros((3,3))\n",
    "for i in range(0,3):\n",
    "    dims[i,:] = confMat[i,:]/confMat[i,:].sum()\n",
    "mapDF = pd.DataFrame(dims, index=['Hate Speech', 'Offensive Language', 'Neither'],\n",
    "                            columns=['Hate Speech', 'Offensive Language', 'Neither'])\n",
    "\n",
    "plt.figure(figsize=(5,5))\n",
    "sb.heatmap(mapDF,annot=True,cmap='YlGnBu', cbar=False)\n",
    "plt.ylabel('True')\n",
    "plt.xlabel('Predicted')\n",
    "plt.title(\"Logistic Regression\")\n"
   ]
  },
  {
   "cell_type": "code",
   "execution_count": 61,
   "id": "f66354a5-7018-4f5c-908b-35d8177ce1fb",
   "metadata": {},
   "outputs": [
    {
     "name": "stdout",
     "output_type": "stream",
     "text": [
      "RANDOM FOREST\n",
      "              precision    recall  f1-score   support\n",
      "\n",
      "           0       1.00      0.98      0.99      5892\n",
      "           1       0.94      1.00      0.97      5353\n",
      "           2       1.00      0.96      0.98      6026\n",
      "\n",
      "    accuracy                           0.98     17271\n",
      "   macro avg       0.98      0.98      0.98     17271\n",
      "weighted avg       0.98      0.98      0.98     17271\n",
      "\n",
      "Accuracy: 0.9791\n",
      "Runtime:  311.2766\n"
     ]
    }
   ],
   "source": [
    "#Random Forest\n",
    "start=time.time()\n",
    "modelRF=RandomForestClassifier().fit(X2_train,y_train)\n",
    "end=time.time()\n",
    "#get time\n",
    "runtimeRF=end-start\n",
    "#get predictions\n",
    "yhat = modelRF.predict(X2_test)\n",
    "#get accuracy\n",
    "accuracyRF=accuracy_score(yhat,y_test)\n",
    "#get results\n",
    "results=classification_report(yhat,y_test)\n",
    "print(\"RANDOM FOREST\")\n",
    "print(results)\n",
    "print(\"Accuracy:\" , round(accuracyRF,4))\n",
    "print(\"Runtime: \",round(runtimeRF,4))"
   ]
  },
  {
   "cell_type": "code",
   "execution_count": 62,
   "id": "70ffe39a-cc1d-4132-a5ce-e5b648d5a280",
   "metadata": {},
   "outputs": [
    {
     "data": {
      "text/plain": [
       "Text(0.5, 1.0, 'Random Forest')"
      ]
     },
     "execution_count": 62,
     "metadata": {},
     "output_type": "execute_result"
    },
    {
     "data": {
      "image/png": "[encoded data removed]",
      "text/plain": [
       "<Figure size 360x360 with 1 Axes>"
      ]
     },
     "metadata": {
      "needs_background": "light"
     },
     "output_type": "display_data"
    }
   ],
   "source": [
    "confMat = confusion_matrix(yhat,y_test)\n",
    "#Since there are 3 classes, want a 3x3 confusion matrix\n",
    "dims=np.zeros((3,3))\n",
    "for i in range(0,3):\n",
    "    dims[i,:] = confMat[i,:]/confMat[i,:].sum()\n",
    "mapDF = pd.DataFrame(dims, index=['Hate Speech', 'Offensive Language', 'Neither'],\n",
    "                            columns=['Hate Speech', 'Offensive Language', 'Neither'])\n",
    "\n",
    "plt.figure(figsize=(5,5))\n",
    "sb.heatmap(mapDF,annot=True,cmap='YlGnBu', cbar=False)\n",
    "plt.ylabel('True')\n",
    "plt.xlabel('Predicted')\n",
    "plt.title(\"Random Forest\")\n"
   ]
  },
  {
   "cell_type": "code",
   "execution_count": 63,
   "id": "11b3061f-1dc5-4ca8-a866-c8fa696af5db",
   "metadata": {},
   "outputs": [
    {
     "name": "stderr",
     "output_type": "stream",
     "text": [
      "/opt/anaconda3/lib/python3.8/site-packages/sklearn/svm/_base.py:985: ConvergenceWarning: Liblinear failed to converge, increase the number of iterations.\n",
      "  warnings.warn(\"Liblinear failed to converge, increase \"\n"
     ]
    },
    {
     "name": "stdout",
     "output_type": "stream",
     "text": [
      "SUPPORT VECTOR MACHINE\n",
      "              precision    recall  f1-score   support\n",
      "\n",
      "           0       1.00      0.95      0.97      6090\n",
      "           1       0.89      0.99      0.94      5114\n",
      "           2       0.99      0.95      0.97      6067\n",
      "\n",
      "    accuracy                           0.96     17271\n",
      "   macro avg       0.96      0.96      0.96     17271\n",
      "weighted avg       0.96      0.96      0.96     17271\n",
      "\n",
      "Accuracy: 0.9592\n",
      "Runtime:  11.8473\n"
     ]
    }
   ],
   "source": [
    "#Support Vector Machine\n",
    "start=time.time()\n",
    "modelSVM=LinearSVC(random_state=123).fit(X2_train,y_train)\n",
    "end=time.time()\n",
    "#get time\n",
    "runtimeSVM=end-start\n",
    "#get predictions\n",
    "yhat = modelSVM.predict(X2_test)\n",
    "#get accuracy\n",
    "accuracySVM=accuracy_score(yhat,y_test)\n",
    "#get results\n",
    "results=classification_report(yhat,y_test)\n",
    "print(\"SUPPORT VECTOR MACHINE\")\n",
    "print(results)\n",
    "print(\"Accuracy:\" , round(accuracySVM,4))\n",
    "print(\"Runtime: \",round(runtimeSVM,4))"
   ]
  },
  {
   "cell_type": "code",
   "execution_count": 64,
   "id": "37104665-c48d-401f-81b7-3d2b302bfa26",
   "metadata": {},
   "outputs": [
    {
     "data": {
      "text/plain": [
       "Text(0.5, 1.0, 'Support Vector Machine')"
      ]
     },
     "execution_count": 64,
     "metadata": {},
     "output_type": "execute_result"
    },
    {
     "data": {
      "image/png": "[encoded data removed]",
      "text/plain": [
       "<Figure size 360x360 with 1 Axes>"
      ]
     },
     "metadata": {
      "needs_background": "light"
     },
     "output_type": "display_data"
    }
   ],
   "source": [
    "confMat = confusion_matrix(yhat,y_test)\n",
    "#Since there are 3 classes, want a 3x3 confusion matrix\n",
    "dims=np.zeros((3,3))\n",
    "for i in range(0,3):\n",
    "    dims[i,:] = confMat[i,:]/confMat[i,:].sum()\n",
    "mapDF = pd.DataFrame(dims, index=['Hate Speech', 'Offensive Language', 'Neither'],\n",
    "                            columns=['Hate Speech', 'Offensive Language', 'Neither'])\n",
    "\n",
    "plt.figure(figsize=(5,5))\n",
    "sb.heatmap(mapDF,annot=True,cmap='YlGnBu', cbar=False)\n",
    "plt.ylabel('True')\n",
    "plt.xlabel('Predicted')\n",
    "plt.title(\"Support Vector Machine\")\n"
   ]
  },
  {
   "cell_type": "code",
   "execution_count": 65,
   "id": "66098c8a-75be-43a8-b334-cc7aef4249cb",
   "metadata": {},
   "outputs": [
    {
     "name": "stdout",
     "output_type": "stream",
     "text": [
      "NAIVE BAYES\n",
      "              precision    recall  f1-score   support\n",
      "\n",
      "           0       0.53      0.96      0.69      3229\n",
      "           1       0.67      0.66      0.67      5807\n",
      "           2       0.99      0.70      0.82      8235\n",
      "\n",
      "    accuracy                           0.73     17271\n",
      "   macro avg       0.73      0.77      0.72     17271\n",
      "weighted avg       0.80      0.73      0.74     17271\n",
      "\n",
      "Accuracy: 0.7338\n",
      "Runtime:  27.0266\n"
     ]
    }
   ],
   "source": [
    "#Naive Bayes ]\n",
    "start=time.time()\n",
    "modelNB=GaussianNB().fit(X2_train,y_train)\n",
    "end=time.time()\n",
    "#get time\n",
    "runtimeNB=end-start\n",
    "#get predictions\n",
    "yhat = modelNB.predict(X2_test)\n",
    "#get accuracy\n",
    "accuracyNB=accuracy_score(yhat,y_test)\n",
    "#get results\n",
    "results=classification_report(yhat,y_test)\n",
    "print(\"NAIVE BAYES\")\n",
    "print(results)\n",
    "print(\"Accuracy:\" , round(accuracyNB,4))\n",
    "print(\"Runtime: \",round(runtimeNB,4))"
   ]
  },
  {
   "cell_type": "code",
   "execution_count": 66,
   "id": "89e0c417-266b-4797-979c-fd0a526a5b83",
   "metadata": {},
   "outputs": [
    {
     "data": {
      "text/plain": [
       "Text(0.5, 1.0, 'Naive Bayes')"
      ]
     },
     "execution_count": 66,
     "metadata": {},
     "output_type": "execute_result"
    },
    {
     "data": {
      "image/png": "[encoded data removed]",
      "text/plain": [
       "<Figure size 360x360 with 1 Axes>"
      ]
     },
     "metadata": {
      "needs_background": "light"
     },
     "output_type": "display_data"
    }
   ],
   "source": [
    "confMat = confusion_matrix(yhat,y_test)\n",
    "#Since there are 3 classes, want a 3x3 confusion matrix\n",
    "dims=np.zeros((3,3))\n",
    "for i in range(0,3):\n",
    "    dims[i,:] = confMat[i,:]/confMat[i,:].sum()\n",
    "mapDF = pd.DataFrame(dims, index=['Hate Speech', 'Offensive Language', 'Neither'],\n",
    "                            columns=['Hate Speech', 'Offensive Language', 'Neither'])\n",
    "\n",
    "plt.figure(figsize=(5,5))\n",
    "sb.heatmap(mapDF,annot=True,cmap='YlGnBu', cbar=False)\n",
    "plt.ylabel('True')\n",
    "plt.xlabel('Predicted')\n",
    "plt.title(\"Naive Bayes\")\n"
   ]
  },
  {
   "cell_type": "code",
   "execution_count": 67,
   "id": "abcca4d0-470e-401b-bea4-0b8ae731d197",
   "metadata": {},
   "outputs": [
    {
     "data": {
      "image/png": "[encoded data removed]",
      "text/plain": [
       "<Figure size 432x288 with 1 Axes>"
      ]
     },
     "metadata": {
      "needs_background": "light"
     },
     "output_type": "display_data"
    }
   ],
   "source": [
    "#Plot results (error rate/runtime)\n",
    "error_rates=[1-accuracyLR,1-accuracyRF,1-accuracySVM,1-accuracyNB]\n",
    "runtimes=[runtimeLR,runtimeRF,runtimeSVM,runtimeNB]\n",
    "names=['Logistic Regression','Random Forest', 'SVM', 'Naive Bayes']\n",
    "plt.scatter(runtimes,error_rates,)\n",
    "plt.xlabel('Runtimes')\n",
    "plt.ylabel('Error Rates')\n",
    "plt.title('Model Performance With the Addition of Polarity Scores')\n",
    "for i,model in enumerate(names):\n",
    "    plt.annotate(model, (runtimes[i],error_rates[i]))"
   ]
  },
  {
   "cell_type": "code",
   "execution_count": null,
   "id": "53f1ba2e-96d3-49a9-82c2-a04314d11efa",
   "metadata": {},
   "outputs": [],
   "source": []
  },
  {
   "cell_type": "code",
   "execution_count": null,
   "id": "a0080d35-d488-4038-8261-21844c3710cc",
   "metadata": {},
   "outputs": [],
   "source": []
  },
  {
   "cell_type": "code",
   "execution_count": null,
   "id": "65ba10e2-5be2-4171-bf3f-95a75071b1e1",
   "metadata": {},
   "outputs": [],
   "source": []
  },
  {
   "cell_type": "code",
   "execution_count": null,
   "id": "17c90abb-0c72-4e3b-b736-1236842d7c2d",
   "metadata": {},
   "outputs": [],
   "source": []
  },
  {
   "cell_type": "code",
   "execution_count": null,
   "id": "e0673693-0625-4555-a750-52afbaad4c9b",
   "metadata": {},
   "outputs": [],
   "source": []
  }
 ],
 "metadata": {
  "kernelspec": {
   "display_name": "Python 3",
   "language": "python",
   "name": "python3"
  },
  "language_info": {
   "codemirror_mode": {
    "name": "ipython",
    "version": 3
   },
   "file_extension": ".py",
   "mimetype": "text/x-python",
   "name": "python",
   "nbconvert_exporter": "python",
   "pygments_lexer": "ipython3",
   "version": "3.8.8"
  }
 },
 "nbformat": 4,
 "nbformat_minor": 5
}
